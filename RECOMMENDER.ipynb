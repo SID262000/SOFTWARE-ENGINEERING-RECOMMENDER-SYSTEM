{
 "cells": [
  {
   "cell_type": "code",
   "execution_count": 1,
   "metadata": {
    "executionInfo": {
     "elapsed": 2534,
     "status": "ok",
     "timestamp": 1619010653763,
     "user": {
      "displayName": "Skandan K A",
      "photoUrl": "https://lh5.googleusercontent.com/-zqEDdd4dxwE/AAAAAAAAAAI/AAAAAAAAC_U/Nmtp35jiVoQ/s64/photo.jpg",
      "userId": "10894939222459393685"
     },
     "user_tz": -330
    },
    "id": "TUrXzbk_jaho"
   },
   "outputs": [],
   "source": [
    "import pandas as pd\n",
    "import numpy as np\n",
    "from scipy.sparse import csr_matrix\n",
    "from sklearn.neighbors import NearestNeighbors\n",
    "import matplotlib.pyplot as plt\n",
    "import seaborn as sns"
   ]
  },
  {
   "cell_type": "code",
   "execution_count": 2,
   "metadata": {
    "colab": {
     "base_uri": "https://localhost:8080/",
     "height": 405
    },
    "executionInfo": {
     "elapsed": 3018,
     "status": "error",
     "timestamp": 1619010654252,
     "user": {
      "displayName": "Skandan K A",
      "photoUrl": "https://lh5.googleusercontent.com/-zqEDdd4dxwE/AAAAAAAAAAI/AAAAAAAAC_U/Nmtp35jiVoQ/s64/photo.jpg",
      "userId": "10894939222459393685"
     },
     "user_tz": -330
    },
    "id": "z6vwosPEjah6",
    "outputId": "261f998e-7bb3-4ce3-e4ad-9e25b40d7f2f"
   },
   "outputs": [
    {
     "ename": "FileNotFoundError",
     "evalue": "ignored",
     "output_type": "error",
     "traceback": [
      "\u001b[0;31m---------------------------------------------------------------------------\u001b[0m",
      "\u001b[0;31mFileNotFoundError\u001b[0m                         Traceback (most recent call last)",
      "\u001b[0;32m<ipython-input-2-2287167d345b>\u001b[0m in \u001b[0;36m<module>\u001b[0;34m()\u001b[0m\n\u001b[0;32m----> 1\u001b[0;31m \u001b[0mmovies\u001b[0m \u001b[0;34m=\u001b[0m \u001b[0mpd\u001b[0m\u001b[0;34m.\u001b[0m\u001b[0mread_csv\u001b[0m\u001b[0;34m(\u001b[0m\u001b[0;34m\"movies.csv\"\u001b[0m\u001b[0;34m)\u001b[0m\u001b[0;34m\u001b[0m\u001b[0;34m\u001b[0m\u001b[0m\n\u001b[0m\u001b[1;32m      2\u001b[0m \u001b[0mratings\u001b[0m \u001b[0;34m=\u001b[0m \u001b[0mpd\u001b[0m\u001b[0;34m.\u001b[0m\u001b[0mread_csv\u001b[0m\u001b[0;34m(\u001b[0m\u001b[0;34m\"ratings.csv\"\u001b[0m\u001b[0;34m)\u001b[0m\u001b[0;34m\u001b[0m\u001b[0;34m\u001b[0m\u001b[0m\n",
      "\u001b[0;32m/usr/local/lib/python3.7/dist-packages/pandas/io/parsers.py\u001b[0m in \u001b[0;36mread_csv\u001b[0;34m(filepath_or_buffer, sep, delimiter, header, names, index_col, usecols, squeeze, prefix, mangle_dupe_cols, dtype, engine, converters, true_values, false_values, skipinitialspace, skiprows, skipfooter, nrows, na_values, keep_default_na, na_filter, verbose, skip_blank_lines, parse_dates, infer_datetime_format, keep_date_col, date_parser, dayfirst, cache_dates, iterator, chunksize, compression, thousands, decimal, lineterminator, quotechar, quoting, doublequote, escapechar, comment, encoding, dialect, error_bad_lines, warn_bad_lines, delim_whitespace, low_memory, memory_map, float_precision)\u001b[0m\n\u001b[1;32m    686\u001b[0m     )\n\u001b[1;32m    687\u001b[0m \u001b[0;34m\u001b[0m\u001b[0m\n\u001b[0;32m--> 688\u001b[0;31m     \u001b[0;32mreturn\u001b[0m \u001b[0m_read\u001b[0m\u001b[0;34m(\u001b[0m\u001b[0mfilepath_or_buffer\u001b[0m\u001b[0;34m,\u001b[0m \u001b[0mkwds\u001b[0m\u001b[0;34m)\u001b[0m\u001b[0;34m\u001b[0m\u001b[0;34m\u001b[0m\u001b[0m\n\u001b[0m\u001b[1;32m    689\u001b[0m \u001b[0;34m\u001b[0m\u001b[0m\n\u001b[1;32m    690\u001b[0m \u001b[0;34m\u001b[0m\u001b[0m\n",
      "\u001b[0;32m/usr/local/lib/python3.7/dist-packages/pandas/io/parsers.py\u001b[0m in \u001b[0;36m_read\u001b[0;34m(filepath_or_buffer, kwds)\u001b[0m\n\u001b[1;32m    452\u001b[0m \u001b[0;34m\u001b[0m\u001b[0m\n\u001b[1;32m    453\u001b[0m     \u001b[0;31m# Create the parser.\u001b[0m\u001b[0;34m\u001b[0m\u001b[0;34m\u001b[0m\u001b[0;34m\u001b[0m\u001b[0m\n\u001b[0;32m--> 454\u001b[0;31m     \u001b[0mparser\u001b[0m \u001b[0;34m=\u001b[0m \u001b[0mTextFileReader\u001b[0m\u001b[0;34m(\u001b[0m\u001b[0mfp_or_buf\u001b[0m\u001b[0;34m,\u001b[0m \u001b[0;34m**\u001b[0m\u001b[0mkwds\u001b[0m\u001b[0;34m)\u001b[0m\u001b[0;34m\u001b[0m\u001b[0;34m\u001b[0m\u001b[0m\n\u001b[0m\u001b[1;32m    455\u001b[0m \u001b[0;34m\u001b[0m\u001b[0m\n\u001b[1;32m    456\u001b[0m     \u001b[0;32mif\u001b[0m \u001b[0mchunksize\u001b[0m \u001b[0;32mor\u001b[0m \u001b[0miterator\u001b[0m\u001b[0;34m:\u001b[0m\u001b[0;34m\u001b[0m\u001b[0;34m\u001b[0m\u001b[0m\n",
      "\u001b[0;32m/usr/local/lib/python3.7/dist-packages/pandas/io/parsers.py\u001b[0m in \u001b[0;36m__init__\u001b[0;34m(self, f, engine, **kwds)\u001b[0m\n\u001b[1;32m    946\u001b[0m             \u001b[0mself\u001b[0m\u001b[0;34m.\u001b[0m\u001b[0moptions\u001b[0m\u001b[0;34m[\u001b[0m\u001b[0;34m\"has_index_names\"\u001b[0m\u001b[0;34m]\u001b[0m \u001b[0;34m=\u001b[0m \u001b[0mkwds\u001b[0m\u001b[0;34m[\u001b[0m\u001b[0;34m\"has_index_names\"\u001b[0m\u001b[0;34m]\u001b[0m\u001b[0;34m\u001b[0m\u001b[0;34m\u001b[0m\u001b[0m\n\u001b[1;32m    947\u001b[0m \u001b[0;34m\u001b[0m\u001b[0m\n\u001b[0;32m--> 948\u001b[0;31m         \u001b[0mself\u001b[0m\u001b[0;34m.\u001b[0m\u001b[0m_make_engine\u001b[0m\u001b[0;34m(\u001b[0m\u001b[0mself\u001b[0m\u001b[0;34m.\u001b[0m\u001b[0mengine\u001b[0m\u001b[0;34m)\u001b[0m\u001b[0;34m\u001b[0m\u001b[0;34m\u001b[0m\u001b[0m\n\u001b[0m\u001b[1;32m    949\u001b[0m \u001b[0;34m\u001b[0m\u001b[0m\n\u001b[1;32m    950\u001b[0m     \u001b[0;32mdef\u001b[0m \u001b[0mclose\u001b[0m\u001b[0;34m(\u001b[0m\u001b[0mself\u001b[0m\u001b[0;34m)\u001b[0m\u001b[0;34m:\u001b[0m\u001b[0;34m\u001b[0m\u001b[0;34m\u001b[0m\u001b[0m\n",
      "\u001b[0;32m/usr/local/lib/python3.7/dist-packages/pandas/io/parsers.py\u001b[0m in \u001b[0;36m_make_engine\u001b[0;34m(self, engine)\u001b[0m\n\u001b[1;32m   1178\u001b[0m     \u001b[0;32mdef\u001b[0m \u001b[0m_make_engine\u001b[0m\u001b[0;34m(\u001b[0m\u001b[0mself\u001b[0m\u001b[0;34m,\u001b[0m \u001b[0mengine\u001b[0m\u001b[0;34m=\u001b[0m\u001b[0;34m\"c\"\u001b[0m\u001b[0;34m)\u001b[0m\u001b[0;34m:\u001b[0m\u001b[0;34m\u001b[0m\u001b[0;34m\u001b[0m\u001b[0m\n\u001b[1;32m   1179\u001b[0m         \u001b[0;32mif\u001b[0m \u001b[0mengine\u001b[0m \u001b[0;34m==\u001b[0m \u001b[0;34m\"c\"\u001b[0m\u001b[0;34m:\u001b[0m\u001b[0;34m\u001b[0m\u001b[0;34m\u001b[0m\u001b[0m\n\u001b[0;32m-> 1180\u001b[0;31m             \u001b[0mself\u001b[0m\u001b[0;34m.\u001b[0m\u001b[0m_engine\u001b[0m \u001b[0;34m=\u001b[0m \u001b[0mCParserWrapper\u001b[0m\u001b[0;34m(\u001b[0m\u001b[0mself\u001b[0m\u001b[0;34m.\u001b[0m\u001b[0mf\u001b[0m\u001b[0;34m,\u001b[0m \u001b[0;34m**\u001b[0m\u001b[0mself\u001b[0m\u001b[0;34m.\u001b[0m\u001b[0moptions\u001b[0m\u001b[0;34m)\u001b[0m\u001b[0;34m\u001b[0m\u001b[0;34m\u001b[0m\u001b[0m\n\u001b[0m\u001b[1;32m   1181\u001b[0m         \u001b[0;32melse\u001b[0m\u001b[0;34m:\u001b[0m\u001b[0;34m\u001b[0m\u001b[0;34m\u001b[0m\u001b[0m\n\u001b[1;32m   1182\u001b[0m             \u001b[0;32mif\u001b[0m \u001b[0mengine\u001b[0m \u001b[0;34m==\u001b[0m \u001b[0;34m\"python\"\u001b[0m\u001b[0;34m:\u001b[0m\u001b[0;34m\u001b[0m\u001b[0;34m\u001b[0m\u001b[0m\n",
      "\u001b[0;32m/usr/local/lib/python3.7/dist-packages/pandas/io/parsers.py\u001b[0m in \u001b[0;36m__init__\u001b[0;34m(self, src, **kwds)\u001b[0m\n\u001b[1;32m   2008\u001b[0m         \u001b[0mkwds\u001b[0m\u001b[0;34m[\u001b[0m\u001b[0;34m\"usecols\"\u001b[0m\u001b[0;34m]\u001b[0m \u001b[0;34m=\u001b[0m \u001b[0mself\u001b[0m\u001b[0;34m.\u001b[0m\u001b[0musecols\u001b[0m\u001b[0;34m\u001b[0m\u001b[0;34m\u001b[0m\u001b[0m\n\u001b[1;32m   2009\u001b[0m \u001b[0;34m\u001b[0m\u001b[0m\n\u001b[0;32m-> 2010\u001b[0;31m         \u001b[0mself\u001b[0m\u001b[0;34m.\u001b[0m\u001b[0m_reader\u001b[0m \u001b[0;34m=\u001b[0m \u001b[0mparsers\u001b[0m\u001b[0;34m.\u001b[0m\u001b[0mTextReader\u001b[0m\u001b[0;34m(\u001b[0m\u001b[0msrc\u001b[0m\u001b[0;34m,\u001b[0m \u001b[0;34m**\u001b[0m\u001b[0mkwds\u001b[0m\u001b[0;34m)\u001b[0m\u001b[0;34m\u001b[0m\u001b[0;34m\u001b[0m\u001b[0m\n\u001b[0m\u001b[1;32m   2011\u001b[0m         \u001b[0mself\u001b[0m\u001b[0;34m.\u001b[0m\u001b[0munnamed_cols\u001b[0m \u001b[0;34m=\u001b[0m \u001b[0mself\u001b[0m\u001b[0;34m.\u001b[0m\u001b[0m_reader\u001b[0m\u001b[0;34m.\u001b[0m\u001b[0munnamed_cols\u001b[0m\u001b[0;34m\u001b[0m\u001b[0;34m\u001b[0m\u001b[0m\n\u001b[1;32m   2012\u001b[0m \u001b[0;34m\u001b[0m\u001b[0m\n",
      "\u001b[0;32mpandas/_libs/parsers.pyx\u001b[0m in \u001b[0;36mpandas._libs.parsers.TextReader.__cinit__\u001b[0;34m()\u001b[0m\n",
      "\u001b[0;32mpandas/_libs/parsers.pyx\u001b[0m in \u001b[0;36mpandas._libs.parsers.TextReader._setup_parser_source\u001b[0;34m()\u001b[0m\n",
      "\u001b[0;31mFileNotFoundError\u001b[0m: [Errno 2] No such file or directory: 'movies.csv'"
     ]
    }
   ],
   "source": [
    "movies = pd.read_csv(\"movies.csv\")\n",
    "ratings = pd.read_csv(\"ratings.csv\")"
   ]
  },
  {
   "cell_type": "code",
   "execution_count": null,
   "metadata": {
    "executionInfo": {
     "elapsed": 2940,
     "status": "aborted",
     "timestamp": 1619010654236,
     "user": {
      "displayName": "Skandan K A",
      "photoUrl": "https://lh5.googleusercontent.com/-zqEDdd4dxwE/AAAAAAAAAAI/AAAAAAAAC_U/Nmtp35jiVoQ/s64/photo.jpg",
      "userId": "10894939222459393685"
     },
     "user_tz": -330
    },
    "id": "MNRTEc0ljah7"
   },
   "outputs": [],
   "source": [
    "movies.head()"
   ]
  },
  {
   "cell_type": "code",
   "execution_count": null,
   "metadata": {
    "executionInfo": {
     "elapsed": 2920,
     "status": "aborted",
     "timestamp": 1619010654237,
     "user": {
      "displayName": "Skandan K A",
      "photoUrl": "https://lh5.googleusercontent.com/-zqEDdd4dxwE/AAAAAAAAAAI/AAAAAAAAC_U/Nmtp35jiVoQ/s64/photo.jpg",
      "userId": "10894939222459393685"
     },
     "user_tz": -330
    },
    "id": "JPCdWcEnjah8"
   },
   "outputs": [],
   "source": [
    "ratings.head()"
   ]
  },
  {
   "cell_type": "code",
   "execution_count": null,
   "metadata": {
    "executionInfo": {
     "elapsed": 2902,
     "status": "aborted",
     "timestamp": 1619010654238,
     "user": {
      "displayName": "Skandan K A",
      "photoUrl": "https://lh5.googleusercontent.com/-zqEDdd4dxwE/AAAAAAAAAAI/AAAAAAAAC_U/Nmtp35jiVoQ/s64/photo.jpg",
      "userId": "10894939222459393685"
     },
     "user_tz": -330
    },
    "id": "KTu53ehrjah9"
   },
   "outputs": [],
   "source": [
    "final_dataset = ratings.pivot(index='movieId',columns='userId',values='rating')\n",
    "final_dataset.head()"
   ]
  },
  {
   "cell_type": "code",
   "execution_count": null,
   "metadata": {
    "executionInfo": {
     "elapsed": 2885,
     "status": "aborted",
     "timestamp": 1619010654239,
     "user": {
      "displayName": "Skandan K A",
      "photoUrl": "https://lh5.googleusercontent.com/-zqEDdd4dxwE/AAAAAAAAAAI/AAAAAAAAC_U/Nmtp35jiVoQ/s64/photo.jpg",
      "userId": "10894939222459393685"
     },
     "user_tz": -330
    },
    "id": "Qeg1-yPZjah-"
   },
   "outputs": [],
   "source": [
    "final_dataset.fillna(0,inplace=True)\n",
    "final_dataset.head()\n"
   ]
  },
  {
   "cell_type": "code",
   "execution_count": null,
   "metadata": {
    "executionInfo": {
     "elapsed": 2880,
     "status": "aborted",
     "timestamp": 1619010654240,
     "user": {
      "displayName": "Skandan K A",
      "photoUrl": "https://lh5.googleusercontent.com/-zqEDdd4dxwE/AAAAAAAAAAI/AAAAAAAAC_U/Nmtp35jiVoQ/s64/photo.jpg",
      "userId": "10894939222459393685"
     },
     "user_tz": -330
    },
    "id": "xnVT--IZjah-"
   },
   "outputs": [],
   "source": [
    "no_user_voted = ratings.groupby('movieId')['rating'].agg('count')\n",
    "no_movies_voted = ratings.groupby('userId')['rating'].agg('count')"
   ]
  },
  {
   "cell_type": "code",
   "execution_count": null,
   "metadata": {
    "executionInfo": {
     "elapsed": 2865,
     "status": "aborted",
     "timestamp": 1619010654241,
     "user": {
      "displayName": "Skandan K A",
      "photoUrl": "https://lh5.googleusercontent.com/-zqEDdd4dxwE/AAAAAAAAAAI/AAAAAAAAC_U/Nmtp35jiVoQ/s64/photo.jpg",
      "userId": "10894939222459393685"
     },
     "user_tz": -330
    },
    "id": "xA8zlC9yjah_"
   },
   "outputs": [],
   "source": [
    "f,ax = plt.subplots(1,1,figsize=(16,4))\n",
    "# ratings['rating'].plot(kind='hist')\n",
    "plt.scatter(no_user_voted.index,no_user_voted,color='mediumseagreen')\n",
    "plt.axhline(y=10,color='r')\n",
    "plt.xlabel('MovieId')\n",
    "plt.ylabel('No. of users voted')\n",
    "plt.show()"
   ]
  },
  {
   "cell_type": "code",
   "execution_count": null,
   "metadata": {
    "executionInfo": {
     "elapsed": 2860,
     "status": "aborted",
     "timestamp": 1619010654242,
     "user": {
      "displayName": "Skandan K A",
      "photoUrl": "https://lh5.googleusercontent.com/-zqEDdd4dxwE/AAAAAAAAAAI/AAAAAAAAC_U/Nmtp35jiVoQ/s64/photo.jpg",
      "userId": "10894939222459393685"
     },
     "user_tz": -330
    },
    "id": "kmd6r6cJjah_"
   },
   "outputs": [],
   "source": [
    "final_dataset = final_dataset.loc[no_user_voted[no_user_voted > 10].index,:]"
   ]
  },
  {
   "cell_type": "code",
   "execution_count": null,
   "metadata": {
    "executionInfo": {
     "elapsed": 2844,
     "status": "aborted",
     "timestamp": 1619010654243,
     "user": {
      "displayName": "Skandan K A",
      "photoUrl": "https://lh5.googleusercontent.com/-zqEDdd4dxwE/AAAAAAAAAAI/AAAAAAAAC_U/Nmtp35jiVoQ/s64/photo.jpg",
      "userId": "10894939222459393685"
     },
     "user_tz": -330
    },
    "id": "wJdBfItWjaiA"
   },
   "outputs": [],
   "source": [
    "f,ax = plt.subplots(1,1,figsize=(16,4))\n",
    "plt.scatter(no_movies_voted.index,no_movies_voted,color='mediumseagreen')\n",
    "plt.axhline(y=50,color='r')\n",
    "plt.xlabel('UserId')\n",
    "plt.ylabel('No. of votes by user')\n",
    "plt.show()"
   ]
  },
  {
   "cell_type": "code",
   "execution_count": null,
   "metadata": {
    "executionInfo": {
     "elapsed": 2829,
     "status": "aborted",
     "timestamp": 1619010654244,
     "user": {
      "displayName": "Skandan K A",
      "photoUrl": "https://lh5.googleusercontent.com/-zqEDdd4dxwE/AAAAAAAAAAI/AAAAAAAAC_U/Nmtp35jiVoQ/s64/photo.jpg",
      "userId": "10894939222459393685"
     },
     "user_tz": -330
    },
    "id": "-94BJhPgjaiA"
   },
   "outputs": [],
   "source": [
    "final_dataset=final_dataset.loc[:,no_movies_voted[no_movies_voted > 50].index]\n",
    "final_dataset"
   ]
  },
  {
   "cell_type": "code",
   "execution_count": null,
   "metadata": {
    "executionInfo": {
     "elapsed": 2818,
     "status": "aborted",
     "timestamp": 1619010654245,
     "user": {
      "displayName": "Skandan K A",
      "photoUrl": "https://lh5.googleusercontent.com/-zqEDdd4dxwE/AAAAAAAAAAI/AAAAAAAAC_U/Nmtp35jiVoQ/s64/photo.jpg",
      "userId": "10894939222459393685"
     },
     "user_tz": -330
    },
    "id": "B-F1PoPpjaiB"
   },
   "outputs": [],
   "source": [
    "sample = np.array([[0,0,3,0,0],[4,0,0,0,2],[0,0,0,0,1]])\n",
    "sparsity = 1.0 - ( np.count_nonzero(sample) / float(sample.size) )\n",
    "print(sparsity)"
   ]
  },
  {
   "cell_type": "code",
   "execution_count": null,
   "metadata": {
    "executionInfo": {
     "elapsed": 2809,
     "status": "aborted",
     "timestamp": 1619010654245,
     "user": {
      "displayName": "Skandan K A",
      "photoUrl": "https://lh5.googleusercontent.com/-zqEDdd4dxwE/AAAAAAAAAAI/AAAAAAAAC_U/Nmtp35jiVoQ/s64/photo.jpg",
      "userId": "10894939222459393685"
     },
     "user_tz": -330
    },
    "id": "HHK7zjzSjaiB"
   },
   "outputs": [],
   "source": [
    "csr_sample = csr_matrix(sample)\n",
    "print(csr_sample)"
   ]
  },
  {
   "cell_type": "code",
   "execution_count": null,
   "metadata": {
    "executionInfo": {
     "elapsed": 2807,
     "status": "aborted",
     "timestamp": 1619010654246,
     "user": {
      "displayName": "Skandan K A",
      "photoUrl": "https://lh5.googleusercontent.com/-zqEDdd4dxwE/AAAAAAAAAAI/AAAAAAAAC_U/Nmtp35jiVoQ/s64/photo.jpg",
      "userId": "10894939222459393685"
     },
     "user_tz": -330
    },
    "id": "LxHh4qIbjaiC"
   },
   "outputs": [],
   "source": [
    "csr_data = csr_matrix(final_dataset.values)\n",
    "final_dataset.reset_index(inplace=True)"
   ]
  },
  {
   "cell_type": "code",
   "execution_count": null,
   "metadata": {
    "executionInfo": {
     "elapsed": 2799,
     "status": "aborted",
     "timestamp": 1619010654247,
     "user": {
      "displayName": "Skandan K A",
      "photoUrl": "https://lh5.googleusercontent.com/-zqEDdd4dxwE/AAAAAAAAAAI/AAAAAAAAC_U/Nmtp35jiVoQ/s64/photo.jpg",
      "userId": "10894939222459393685"
     },
     "user_tz": -330
    },
    "id": "Fzv_AbLmjaiC"
   },
   "outputs": [],
   "source": [
    "knn = NearestNeighbors(metric='cosine', algorithm='brute', n_neighbors=20, n_jobs=-1)\n",
    "knn.fit(csr_data)"
   ]
  },
  {
   "cell_type": "code",
   "execution_count": null,
   "metadata": {
    "executionInfo": {
     "elapsed": 2798,
     "status": "aborted",
     "timestamp": 1619010654248,
     "user": {
      "displayName": "Skandan K A",
      "photoUrl": "https://lh5.googleusercontent.com/-zqEDdd4dxwE/AAAAAAAAAAI/AAAAAAAAC_U/Nmtp35jiVoQ/s64/photo.jpg",
      "userId": "10894939222459393685"
     },
     "user_tz": -330
    },
    "id": "nmlW8qZIjaiC"
   },
   "outputs": [],
   "source": [
    "def get_movie_recommendation(movie_name):\n",
    "    n_movies_to_reccomend = 10\n",
    "    movie_list = movies[movies['title'].str.contains(movie_name)]  \n",
    "    if len(movie_list):        \n",
    "        movie_idx= movie_list.iloc[0]['movieId']\n",
    "        movie_idx = final_dataset[final_dataset['movieId'] == movie_idx].index[0]\n",
    "        distances , indices = knn.kneighbors(csr_data[movie_idx],n_neighbors=n_movies_to_reccomend+1)    \n",
    "        rec_movie_indices = sorted(list(zip(indices.squeeze().tolist(),distances.squeeze().tolist())),key=lambda x: x[1])[:0:-1]\n",
    "        recommend_frame = []\n",
    "        for val in rec_movie_indices:\n",
    "            movie_idx = final_dataset.iloc[val[0]]['movieId']\n",
    "            idx = movies[movies['movieId'] == movie_idx].index\n",
    "            recommend_frame.append({'Title':movies.iloc[idx]['title'].values[0],'Distance':val[1]})\n",
    "        df = pd.DataFrame(recommend_frame,index=range(1,n_movies_to_reccomend+1))\n",
    "        return df\n",
    "    else:\n",
    "        return \"No movies found. Please check your input\""
   ]
  },
  {
   "cell_type": "code",
   "execution_count": null,
   "metadata": {
    "executionInfo": {
     "elapsed": 2789,
     "status": "aborted",
     "timestamp": 1619010654248,
     "user": {
      "displayName": "Skandan K A",
      "photoUrl": "https://lh5.googleusercontent.com/-zqEDdd4dxwE/AAAAAAAAAAI/AAAAAAAAC_U/Nmtp35jiVoQ/s64/photo.jpg",
      "userId": "10894939222459393685"
     },
     "user_tz": -330
    },
    "id": "D0JwL_rUjaiD"
   },
   "outputs": [],
   "source": [
    "get_movie_recommendation('Iron Man')"
   ]
  },
  {
   "cell_type": "code",
   "execution_count": null,
   "metadata": {
    "executionInfo": {
     "elapsed": 2780,
     "status": "aborted",
     "timestamp": 1619010654249,
     "user": {
      "displayName": "Skandan K A",
      "photoUrl": "https://lh5.googleusercontent.com/-zqEDdd4dxwE/AAAAAAAAAAI/AAAAAAAAC_U/Nmtp35jiVoQ/s64/photo.jpg",
      "userId": "10894939222459393685"
     },
     "user_tz": -330
    },
    "id": "EY0KTz5RjaiD"
   },
   "outputs": [],
   "source": [
    "get_movie_recommendation('Memento')"
   ]
  },
  {
   "cell_type": "code",
   "execution_count": null,
   "metadata": {
    "executionInfo": {
     "elapsed": 2778,
     "status": "aborted",
     "timestamp": 1619010654249,
     "user": {
      "displayName": "Skandan K A",
      "photoUrl": "https://lh5.googleusercontent.com/-zqEDdd4dxwE/AAAAAAAAAAI/AAAAAAAAC_U/Nmtp35jiVoQ/s64/photo.jpg",
      "userId": "10894939222459393685"
     },
     "user_tz": -330
    },
    "id": "34qZajMwjaiE"
   },
   "outputs": [],
   "source": [
    "tags = pd.read_csv(\"tags.csv\")"
   ]
  },
  {
   "cell_type": "code",
   "execution_count": null,
   "metadata": {
    "executionInfo": {
     "elapsed": 2776,
     "status": "aborted",
     "timestamp": 1619010654250,
     "user": {
      "displayName": "Skandan K A",
      "photoUrl": "https://lh5.googleusercontent.com/-zqEDdd4dxwE/AAAAAAAAAAI/AAAAAAAAC_U/Nmtp35jiVoQ/s64/photo.jpg",
      "userId": "10894939222459393685"
     },
     "user_tz": -330
    },
    "id": "h_NmhdTnjaiE"
   },
   "outputs": [],
   "source": [
    "x = tags['movieId'].value_counts() #number of occurences of the movie"
   ]
  },
  {
   "cell_type": "code",
   "execution_count": null,
   "metadata": {
    "executionInfo": {
     "elapsed": 2771,
     "status": "aborted",
     "timestamp": 1619010654251,
     "user": {
      "displayName": "Skandan K A",
      "photoUrl": "https://lh5.googleusercontent.com/-zqEDdd4dxwE/AAAAAAAAAAI/AAAAAAAAC_U/Nmtp35jiVoQ/s64/photo.jpg",
      "userId": "10894939222459393685"
     },
     "user_tz": -330
    },
    "id": "oBZYRsrkjaiE"
   },
   "outputs": [],
   "source": [
    "y = list(zip(x,x.index)) # Converting series to list of tuples"
   ]
  },
  {
   "cell_type": "code",
   "execution_count": null,
   "metadata": {
    "executionInfo": {
     "elapsed": 2760,
     "status": "aborted",
     "timestamp": 1619010654251,
     "user": {
      "displayName": "Skandan K A",
      "photoUrl": "https://lh5.googleusercontent.com/-zqEDdd4dxwE/AAAAAAAAAAI/AAAAAAAAC_U/Nmtp35jiVoQ/s64/photo.jpg",
      "userId": "10894939222459393685"
     },
     "user_tz": -330
    },
    "id": "DB1z26ucjaiF"
   },
   "outputs": [],
   "source": [
    "for a in y: #a[1] is the movie id\n",
    "    try:\n",
    "        print('The movie',movies['title'][a[1]],'has been viewed',a[0],'times')\n",
    "    except:\n",
    "        continue"
   ]
  }
 ],
 "metadata": {
  "colab": {
   "name": "OOAD_CODE.ipynb",
   "provenance": []
  },
  "kernelspec": {
   "display_name": "Python 3",
   "language": "python",
   "name": "python3"
  },
  "language_info": {
   "codemirror_mode": {
    "name": "ipython",
    "version": 3
   },
   "file_extension": ".py",
   "mimetype": "text/x-python",
   "name": "python",
   "nbconvert_exporter": "python",
   "pygments_lexer": "ipython3",
   "version": "3.8.5"
  }
 },
 "nbformat": 4,
 "nbformat_minor": 1
}
